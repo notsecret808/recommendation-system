{
  "cells": [
    {
      "cell_type": "code",
      "execution_count": null,
      "metadata": {
        "id": "tr9P7N2rFnCG"
      },
      "outputs": [],
      "source": [
        "!pip install fastcore fastai --upgrade\n",
        "!pip install scikit-surprise"
      ]
    },
    {
      "cell_type": "code",
      "execution_count": null,
      "metadata": {
        "id": "9Rg5zAenFrrn"
      },
      "outputs": [],
      "source": [
        "import torch\n",
        "from google.colab import drive\n",
        "from fastai.tabular.all import *\n",
        "from fastai.collab import *\n",
        "import surprise\n",
        "import seaborn as sns;\n",
        "import math;\n",
        "import numpy;\n",
        "from sklearn.metrics.pairwise import cosine_similarity;\n",
        "import operator;\n",
        "pd.options.mode.chained_assignment = None  # default='warn'"
      ]
    },
    {
      "cell_type": "code",
      "execution_count": null,
      "metadata": {
        "colab": {
          "base_uri": "https://localhost:8080/"
        },
        "id": "pQW7UJxjFn8y",
        "outputId": "00c1c7a9-5764-481b-bbf4-6c985b0cdb97"
      },
      "outputs": [
        {
          "output_type": "stream",
          "name": "stdout",
          "text": [
            "Drive already mounted at /content/drive; to attempt to forcibly remount, call drive.mount(\"/content/drive\", force_remount=True).\n"
          ]
        }
      ],
      "source": [
        "drive.mount('/content/drive');"
      ]
    },
    {
      "cell_type": "code",
      "execution_count": null,
      "metadata": {
        "id": "ciCwXVKFFvL7"
      },
      "outputs": [],
      "source": [
        "path = '/content/drive/MyDrive/netflix_dataset'"
      ]
    },
    {
      "cell_type": "code",
      "execution_count": null,
      "metadata": {
        "colab": {
          "base_uri": "https://localhost:8080/"
        },
        "id": "_1OEsSkIFwis",
        "outputId": "da4bfd23-530d-4742-b9da-8873f2824529"
      },
      "outputs": [
        {
          "output_type": "stream",
          "name": "stdout",
          "text": [
            "combined_data_1.txt  combined_data_3.txt  movie_titles.csv  qualifying.txt\n",
            "combined_data_2.txt  combined_data_4.txt  probe.txt\n"
          ]
        }
      ],
      "source": [
        "! ls $path"
      ]
    },
    {
      "cell_type": "code",
      "execution_count": null,
      "metadata": {
        "id": "DNENwAucFyGO"
      },
      "outputs": [],
      "source": [
        "ratings_filename_1 = 'combined_data_1.txt'\n",
        "ratings_filename_2 = 'combined_data_2.txt'\n",
        "ratings_filename_3 = 'combined_data_3.txt'\n",
        "ratings_filename_4 = 'combined_data_4.txt'\n",
        "\n",
        "movies_filename = 'movie_titles.csv'"
      ]
    },
    {
      "cell_type": "code",
      "execution_count": null,
      "metadata": {
        "colab": {
          "base_uri": "https://localhost:8080/",
          "height": 206
        },
        "id": "DzwJZRRNF33w",
        "outputId": "7a58e449-2dcb-4036-99bd-de920a3680ef"
      },
      "outputs": [
        {
          "output_type": "execute_result",
          "data": {
            "text/plain": [
              "  customer_id  rating\n",
              "0          1:     NaN\n",
              "1     1488844     3.0\n",
              "2      822109     5.0\n",
              "3      885013     4.0\n",
              "4       30878     4.0"
            ],
            "text/html": [
              "\n",
              "  <div id=\"df-7d8921de-7461-42d2-b619-4ba10a7ef229\">\n",
              "    <div class=\"colab-df-container\">\n",
              "      <div>\n",
              "<style scoped>\n",
              "    .dataframe tbody tr th:only-of-type {\n",
              "        vertical-align: middle;\n",
              "    }\n",
              "\n",
              "    .dataframe tbody tr th {\n",
              "        vertical-align: top;\n",
              "    }\n",
              "\n",
              "    .dataframe thead th {\n",
              "        text-align: right;\n",
              "    }\n",
              "</style>\n",
              "<table border=\"1\" class=\"dataframe\">\n",
              "  <thead>\n",
              "    <tr style=\"text-align: right;\">\n",
              "      <th></th>\n",
              "      <th>customer_id</th>\n",
              "      <th>rating</th>\n",
              "    </tr>\n",
              "  </thead>\n",
              "  <tbody>\n",
              "    <tr>\n",
              "      <th>0</th>\n",
              "      <td>1:</td>\n",
              "      <td>NaN</td>\n",
              "    </tr>\n",
              "    <tr>\n",
              "      <th>1</th>\n",
              "      <td>1488844</td>\n",
              "      <td>3.0</td>\n",
              "    </tr>\n",
              "    <tr>\n",
              "      <th>2</th>\n",
              "      <td>822109</td>\n",
              "      <td>5.0</td>\n",
              "    </tr>\n",
              "    <tr>\n",
              "      <th>3</th>\n",
              "      <td>885013</td>\n",
              "      <td>4.0</td>\n",
              "    </tr>\n",
              "    <tr>\n",
              "      <th>4</th>\n",
              "      <td>30878</td>\n",
              "      <td>4.0</td>\n",
              "    </tr>\n",
              "  </tbody>\n",
              "</table>\n",
              "</div>\n",
              "      <button class=\"colab-df-convert\" onclick=\"convertToInteractive('df-7d8921de-7461-42d2-b619-4ba10a7ef229')\"\n",
              "              title=\"Convert this dataframe to an interactive table.\"\n",
              "              style=\"display:none;\">\n",
              "        \n",
              "  <svg xmlns=\"http://www.w3.org/2000/svg\" height=\"24px\"viewBox=\"0 0 24 24\"\n",
              "       width=\"24px\">\n",
              "    <path d=\"M0 0h24v24H0V0z\" fill=\"none\"/>\n",
              "    <path d=\"M18.56 5.44l.94 2.06.94-2.06 2.06-.94-2.06-.94-.94-2.06-.94 2.06-2.06.94zm-11 1L8.5 8.5l.94-2.06 2.06-.94-2.06-.94L8.5 2.5l-.94 2.06-2.06.94zm10 10l.94 2.06.94-2.06 2.06-.94-2.06-.94-.94-2.06-.94 2.06-2.06.94z\"/><path d=\"M17.41 7.96l-1.37-1.37c-.4-.4-.92-.59-1.43-.59-.52 0-1.04.2-1.43.59L10.3 9.45l-7.72 7.72c-.78.78-.78 2.05 0 2.83L4 21.41c.39.39.9.59 1.41.59.51 0 1.02-.2 1.41-.59l7.78-7.78 2.81-2.81c.8-.78.8-2.07 0-2.86zM5.41 20L4 18.59l7.72-7.72 1.47 1.35L5.41 20z\"/>\n",
              "  </svg>\n",
              "      </button>\n",
              "      \n",
              "  <style>\n",
              "    .colab-df-container {\n",
              "      display:flex;\n",
              "      flex-wrap:wrap;\n",
              "      gap: 12px;\n",
              "    }\n",
              "\n",
              "    .colab-df-convert {\n",
              "      background-color: #E8F0FE;\n",
              "      border: none;\n",
              "      border-radius: 50%;\n",
              "      cursor: pointer;\n",
              "      display: none;\n",
              "      fill: #1967D2;\n",
              "      height: 32px;\n",
              "      padding: 0 0 0 0;\n",
              "      width: 32px;\n",
              "    }\n",
              "\n",
              "    .colab-df-convert:hover {\n",
              "      background-color: #E2EBFA;\n",
              "      box-shadow: 0px 1px 2px rgba(60, 64, 67, 0.3), 0px 1px 3px 1px rgba(60, 64, 67, 0.15);\n",
              "      fill: #174EA6;\n",
              "    }\n",
              "\n",
              "    [theme=dark] .colab-df-convert {\n",
              "      background-color: #3B4455;\n",
              "      fill: #D2E3FC;\n",
              "    }\n",
              "\n",
              "    [theme=dark] .colab-df-convert:hover {\n",
              "      background-color: #434B5C;\n",
              "      box-shadow: 0px 1px 3px 1px rgba(0, 0, 0, 0.15);\n",
              "      filter: drop-shadow(0px 1px 2px rgba(0, 0, 0, 0.3));\n",
              "      fill: #FFFFFF;\n",
              "    }\n",
              "  </style>\n",
              "\n",
              "      <script>\n",
              "        const buttonEl =\n",
              "          document.querySelector('#df-7d8921de-7461-42d2-b619-4ba10a7ef229 button.colab-df-convert');\n",
              "        buttonEl.style.display =\n",
              "          google.colab.kernel.accessAllowed ? 'block' : 'none';\n",
              "\n",
              "        async function convertToInteractive(key) {\n",
              "          const element = document.querySelector('#df-7d8921de-7461-42d2-b619-4ba10a7ef229');\n",
              "          const dataTable =\n",
              "            await google.colab.kernel.invokeFunction('convertToInteractive',\n",
              "                                                     [key], {});\n",
              "          if (!dataTable) return;\n",
              "\n",
              "          const docLinkHtml = 'Like what you see? Visit the ' +\n",
              "            '<a target=\"_blank\" href=https://colab.research.google.com/notebooks/data_table.ipynb>data table notebook</a>'\n",
              "            + ' to learn more about interactive tables.';\n",
              "          element.innerHTML = '';\n",
              "          dataTable['output_type'] = 'display_data';\n",
              "          await google.colab.output.renderOutput(dataTable, element);\n",
              "          const docLink = document.createElement('div');\n",
              "          docLink.innerHTML = docLinkHtml;\n",
              "          element.appendChild(docLink);\n",
              "        }\n",
              "      </script>\n",
              "    </div>\n",
              "  </div>\n",
              "  "
            ]
          },
          "metadata": {},
          "execution_count": 10
        }
      ],
      "source": [
        "df_ratings_1 = pd.read_csv(f'{path}/{ratings_filename_1}', header=None, names=['customer_id', 'rating'], usecols=[0,1])\n",
        "df_ratings_1['rating'] = df_ratings_1['rating'].astype(float)\n",
        "df_ratings_1.head()"
      ]
    },
    {
      "cell_type": "code",
      "execution_count": null,
      "metadata": {
        "id": "ysjt_lIWXVhy"
      },
      "outputs": [],
      "source": [
        "# df_ratings_2 = pd.read_csv(f'{path}/{ratings_filename_2}', header=0, names=['customer_id', 'rating'], usecols=[0,1])\n",
        "# df_ratings_2['rating'] = df_ratings_2['rating'].astype(float)\n",
        "# df_ratings_2.head()"
      ]
    },
    {
      "cell_type": "code",
      "execution_count": null,
      "metadata": {
        "id": "HjHasa3VXWEZ"
      },
      "outputs": [],
      "source": [
        "# df_ratings_3 = pd.read_csv(f'{path}/{ratings_filename_3}', header=0, names=['customer_id', 'rating'], usecols=[0,1])\n",
        "# df_ratings_3['rating'] = df_ratings_3['rating'].astype(float)\n",
        "# df_ratings_3.head()"
      ]
    },
    {
      "cell_type": "code",
      "execution_count": null,
      "metadata": {
        "id": "UOgobcBpmL95"
      },
      "outputs": [],
      "source": [
        "# df_ratings_4 = pd.read_csv(f'{path}/{ratings_filename_4}', header=0, names=['customer_id', 'rating'], usecols=[0,1])\n",
        "# df_ratings_4['rating'] = df_ratings_4['rating'].astype(float)\n",
        "# df_ratings_4.head()"
      ]
    },
    {
      "cell_type": "code",
      "execution_count": null,
      "metadata": {
        "id": "XaHIsQQRlo_H"
      },
      "outputs": [],
      "source": [
        "df_ratings = df_ratings_1\n",
        "# df_ratings = df_ratings.append(df_ratings_2)\n",
        "# df_ratings = df_ratings.append(df_ratings_3)\n",
        "# df_ratings = df_ratings.append(df_ratings_4)\n",
        "df_ratings.index = np.arange(0,len(df_ratings))"
      ]
    },
    {
      "cell_type": "code",
      "execution_count": null,
      "metadata": {
        "colab": {
          "base_uri": "https://localhost:8080/",
          "height": 596
        },
        "id": "wsFYiiTsnCmF",
        "outputId": "e61a9bdf-1ec0-4ba1-f1a8-1c0566264a2b"
      },
      "outputs": [
        {
          "output_type": "display_data",
          "data": {
            "text/plain": [
              "<Figure size 1080x720 with 1 Axes>"
            ],
            "image/png": "[encoded data removed]"
          },
          "metadata": {
            "needs_background": "light"
          }
        }
      ],
      "source": [
        "agg_df_ratings = df_ratings.groupby('rating')['rating'].agg(['count'])\n",
        "Movie_count = df_ratings.isnull().sum()[1]\n",
        "Customer_count = df_ratings['customer_id'].nunique() - Movie_count\n",
        "Rating_count = df_ratings['customer_id'].count() - Movie_count\n",
        "\n",
        "axs = agg_df_ratings.plot(kind = 'barh', legend = False, figsize = (15,10))\n",
        "plt.title('Всего: {:,} Фильмов, {:,} пользователей, {:,} оценок дано'.format(Movie_count, Customer_count, Rating_count), fontsize=20)\n",
        "plt.axis('off')\n",
        "\n",
        "for i in range(1,6):\n",
        "    axs.text(agg_df_ratings.iloc[i-1][0]/4, i-1, 'Рейтинг {}: {:.0f}%'.format(i, agg_df_ratings.iloc[i-1][0]*100 / agg_df_ratings.sum()[0]), color = 'white', weight = 'bold')"
      ]
    },
    {
      "cell_type": "code",
      "execution_count": null,
      "metadata": {
        "colab": {
          "base_uri": "https://localhost:8080/",
          "height": 596
        },
        "id": "07yfGxYLQX-r",
        "outputId": "07ceb838-c508-46da-d26e-8de45c83052c"
      },
      "outputs": [
        {
          "output_type": "display_data",
          "data": {
            "text/plain": [
              "<Figure size 1080x720 with 1 Axes>"
            ],
            "image/png": "[encoded data removed]"
          },
          "metadata": {
            "needs_background": "light"
          }
        }
      ],
      "source": [
        "axs = agg_df_ratings.plot(kind = 'barh', legend = False, \n",
        "figsize = (15,10))\n",
        "plt.title( 'Всего:  {:,} оценок дано'.format(Rating_count), fontsize=20)\n",
        "plt.axis('off')\n",
        "for i in range(1,6):  \n",
        "  s = agg_df_ratings.sum()[0]\n",
        "  calc_stat = agg_df_ratings.iloc[i-1][0]*100 / s\n",
        "  text = 'Рейтинг {}: {:.0f}%'.format(i, calc_stat)\n",
        "  axs.text(agg_df_ratings.iloc[i-1][0]/4, i-1, text, \n",
        "  color = 'white', weight = 'bold')\n"
      ]
    },
    {
      "cell_type": "code",
      "execution_count": null,
      "metadata": {
        "id": "a46-17OKoeCH"
      },
      "outputs": [],
      "source": [
        "dataframe_nan = pd.DataFrame(pd.isnull(df_ratings.rating))\n",
        "dataframe_nan = dataframe_nan[dataframe_nan['rating'] == True]\n",
        "dataframe_nan = dataframe_nan.reset_index()\n",
        "\n",
        "movie_numpy_arr = []\n",
        "movie_id = 1\n",
        "for i,j in zip(dataframe_nan['index'][1:], dataframe_nan['index'][:-1]):\n",
        "    t = np.full((1,i-j-1), movie_id)\n",
        "    movie_numpy_arr = np.append(movie_numpy_arr, t)\n",
        "    movie_id += 1\n",
        "\n",
        "l_rec = np.full((1,len(df_ratings) - dataframe_nan.iloc[-1, 0] - 1), movie_id)\n",
        "movie_np = np.append(movie_numpy_arr, l_rec)"
      ]
    },
    {
      "cell_type": "code",
      "execution_count": null,
      "metadata": {
        "colab": {
          "base_uri": "https://localhost:8080/"
        },
        "id": "Zfk2kSCS5HIv",
        "outputId": "b968690f-d24c-47c4-c6e9-27c9ed98b4b3"
      },
      "outputs": [
        {
          "output_type": "stream",
          "name": "stdout",
          "text": [
            "Movie numpy: [1.000e+00 1.000e+00 1.000e+00 ... 4.499e+03 4.499e+03 4.499e+03]\n",
            "Length: 24053764\n"
          ]
        }
      ],
      "source": [
        "print('Movie numpy: {}'.format(movie_np))\n",
        "print('Length: {}'.format(len(movie_np)))"
      ]
    },
    {
      "cell_type": "code",
      "execution_count": null,
      "metadata": {
        "colab": {
          "base_uri": "https://localhost:8080/"
        },
        "id": "kAPib7OV3vq_",
        "outputId": "2d972108-23c6-4e69-8e33-8b3084983ac2"
      },
      "outputs": [
        {
          "output_type": "stream",
          "name": "stdout",
          "text": [
            "-Dataset examples-\n",
            "          customer_id  rating  movie_id\n",
            "1             1488844     3.0         1\n",
            "5000996        501954     2.0       996\n",
            "10001962       404654     5.0      1962\n",
            "15002876       886608     2.0      2876\n",
            "20003825      1193835     2.0      3825\n"
          ]
        }
      ],
      "source": [
        "df_ratings = df_ratings[pd.notnull(df_ratings['rating'])]\n",
        "\n",
        "df_ratings['movie_id'] = movie_np.astype(int).copy()\n",
        "df_ratings['customer_id'] = df_ratings['customer_id'].astype(int).copy()\n",
        "print('-Dataset examples-')\n",
        "print(df_ratings.iloc[::5000000, :])"
      ]
    },
    {
      "cell_type": "code",
      "execution_count": null,
      "metadata": {
        "id": "BeLgrcXP9DUP"
      },
      "outputs": [],
      "source": [
        "funs = ['count', 'mean']\n",
        "dataframe_movie_sum = df_ratings.groupby('movie_id')['rating'].agg(funs)\n",
        "dataframe_movie_sum.index = dataframe_movie_sum.index.map(int)\n",
        "movie_bench = round(dataframe_movie_sum['count'].quantile(0.7), 0)\n",
        "drop_movie_list = dataframe_movie_sum[dataframe_movie_sum['count'] \n",
        "< movie_bench].index\n",
        "\n",
        "\n",
        "dataframe_customer_sum = df_ratings.groupby('customer_id')['rating'].agg(funs)\n",
        "dataframe_customer_sum.index = dataframe_customer_sum.index.map(int)\n",
        "customer_benchmark = round(dataframe_customer_sum['count'].quantile(0.7), 0)\n",
        "drop_customer_list = dataframe_customer_sum[dataframe_customer_sum['count'] < customer_benchmark].index"
      ]
    },
    {
      "cell_type": "code",
      "execution_count": null,
      "metadata": {
        "colab": {
          "base_uri": "https://localhost:8080/"
        },
        "id": "TQ-rI3abSgXJ",
        "outputId": "6cbff486-6cb8-4106-c707-0cc788d43551"
      },
      "outputs": [
        {
          "output_type": "stream",
          "name": "stdout",
          "text": [
            "Original Shape: (24053764, 3)\n",
            "After Trim Shape: (17337458, 3)\n",
            "-Data Examples-\n",
            "          customer_id  rating  movie_id\n",
            "696            712664     5.0         3\n",
            "6932490       1299309     5.0      1384\n",
            "13860273       400155     3.0      2660\n",
            "20766530       466962     4.0      3923\n"
          ]
        }
      ],
      "source": [
        "print('Original Shape: {}'.format(df_ratings.shape))\n",
        "df_ratings = df_ratings[~df_ratings['movie_id'].isin(drop_movie_list)]\n",
        "df_ratings = df_ratings[~df_ratings['customer_id'].isin(drop_customer_list)]\n",
        "print('After Trim Shape: {}'.format(df_ratings.shape))\n",
        "print('-Data Examples-')\n",
        "print(df_ratings.iloc[::5000000, :])"
      ]
    },
    {
      "cell_type": "code",
      "execution_count": null,
      "metadata": {
        "id": "Cbsixqt1T_m3"
      },
      "outputs": [],
      "source": [
        "df_title = pd.read_csv(f'{path}/{movies_filename}', encoding = 'ISO-8859-1', names=['movie_id', 'year', 'name'], on_bad_lines='skip')\n",
        "df_title.set_index('movie_id', inplace=True)\n"
      ]
    },
    {
      "cell_type": "code",
      "execution_count": null,
      "metadata": {
        "colab": {
          "base_uri": "https://localhost:8080/"
        },
        "id": "rgHJM9id02gW",
        "outputId": "76d032e1-cbfb-44f0-ed0e-d922f46cf629"
      },
      "outputs": [
        {
          "output_type": "stream",
          "name": "stdout",
          "text": [
            "17770\n"
          ]
        }
      ],
      "source": [
        "print(len(df_title))"
      ]
    },
    {
      "cell_type": "code",
      "execution_count": null,
      "metadata": {
        "id": "Y7bi4xWogQM3"
      },
      "outputs": [],
      "source": [
        "df = df_ratings[['customer_id', 'movie_id', 'rating']][:100000]"
      ]
    },
    {
      "cell_type": "code",
      "execution_count": null,
      "metadata": {
        "id": "a_OYfptDUm1I"
      },
      "outputs": [],
      "source": [
        "gdf = df.groupby('customer_id')\n",
        "groups_items = gdf.groups.items()\n",
        "arrs = {}"
      ]
    },
    {
      "cell_type": "code",
      "execution_count": null,
      "metadata": {
        "colab": {
          "base_uri": "https://localhost:8080/"
        },
        "id": "fqQJTG0nHiKH",
        "outputId": "b90ef85c-271a-42c6-d789-137761b950f8"
      },
      "outputs": [
        {
          "output_type": "stream",
          "name": "stdout",
          "text": [
            "74261\n"
          ]
        }
      ],
      "source": [
        "# for user, rows in groups_items:\n",
        "#   print(rows.values)\n",
        "print(len(groups_items))"
      ]
    },
    {
      "cell_type": "code",
      "execution_count": null,
      "metadata": {
        "id": "hKpY9P4RpTT2"
      },
      "outputs": [],
      "source": [
        "# i = 0\n",
        "# for user, rows in groups_items:\n",
        "#   user_ratings = {}\n",
        "#   for row in rows:\n",
        "#     key = df.loc[[row]]['movie_id'].values[0]\n",
        "#     val = df.loc[[row]]['rating'].values[0]\n",
        "#     user_ratings[key] = val\n",
        "#   arrs[user] = user_ratings\n",
        "#   print(i)\n",
        "#   i+=1"
      ]
    },
    {
      "cell_type": "code",
      "execution_count": null,
      "metadata": {
        "id": "Ebx2dn4i4Tru"
      },
      "outputs": [],
      "source": [
        "# file = open(\"test.pkl\", \"wb\")\n",
        "# pickle.dump(arrs, file)\n",
        "# file.close()\n",
        "# print(arrs)\n",
        "# file = open(\"test.pkl\", \"rb\")\n",
        "# out = pickle.load(file)"
      ]
    },
    {
      "cell_type": "code",
      "execution_count": null,
      "metadata": {
        "id": "F6pNnUAdUfMt"
      },
      "outputs": [],
      "source": [
        "# print(out)"
      ]
    },
    {
      "cell_type": "code",
      "execution_count": null,
      "metadata": {
        "id": "nu4SKSMqYFtc"
      },
      "outputs": [],
      "source": [
        "def generate_np_arr(dict):\n",
        "  i = 0\n",
        "  arr = np.zeros(len(df_title), dtype=int)\n",
        "  for key, value in dict.items():\n",
        "    arr[int(key)] = int(value)\n",
        "  return arr"
      ]
    },
    {
      "cell_type": "code",
      "execution_count": null,
      "metadata": {
        "id": "fDHp72Quaq5a"
      },
      "outputs": [],
      "source": [
        "# example = {8: 3.0, 28: 2.0}\n",
        "# arr = generate_np_arr(example)"
      ]
    },
    {
      "cell_type": "code",
      "execution_count": null,
      "metadata": {
        "id": "aJtShiGeazlg"
      },
      "outputs": [],
      "source": [
        "# print(arr)"
      ]
    },
    {
      "cell_type": "code",
      "execution_count": null,
      "metadata": {
        "id": "-68j39SMWFFP"
      },
      "outputs": [],
      "source": [
        "# здесь вычисляю угол между косинусом (cosine similarity)\n",
        "def calc_max_cos_sim(new_user):\n",
        "  cos_matrix = {}\n",
        "  # example = {8: 3.0, 28: 2.0}\n",
        "  users_ratings = out\n",
        "  # print(len(users_ratings))\n",
        "  # example_np = generate_np_arr(example).reshape(1,-1)\n",
        "  new_user_np = generate_np_arr(new_user).reshape(1,-1)\n",
        "  # test_np = {7: users_ratings[7], 79: users_ratings[79]}\n",
        "\n",
        "  for id, ratings in users_ratings.items():\n",
        "    cur_arr = generate_np_arr(ratings).reshape(1,-1)\n",
        "    cos_matrix[id] = cosine_similarity(cur_arr, new_user_np)[0][0]\n",
        "  return max(cos_matrix.items(), key=operator.itemgetter(1))[0]"
      ]
    },
    {
      "cell_type": "code",
      "execution_count": null,
      "metadata": {
        "id": "Hj12IEyTYZs8"
      },
      "outputs": [],
      "source": [
        "reader = surprise.Reader(rating_scale=(1, 5))\n",
        "data = surprise.Dataset.load_from_df(df_ratings[['customer_id', 'movie_id', 'rating']][:8000000], reader);"
      ]
    },
    {
      "cell_type": "code",
      "execution_count": null,
      "metadata": {
        "id": "0BzYaslrZUzu"
      },
      "outputs": [],
      "source": [
        "trainset, testset = surprise.model_selection.train_test_split(data, test_size=.2)"
      ]
    },
    {
      "cell_type": "code",
      "execution_count": null,
      "metadata": {
        "id": "rRjRsnpWdL3E"
      },
      "outputs": [],
      "source": [
        "df_ratings = df_ratings[['customer_id', 'movie_id', 'rating']][:8000000]"
      ]
    },
    {
      "cell_type": "code",
      "execution_count": null,
      "metadata": {
        "id": "vczduOjhdIty"
      },
      "outputs": [],
      "source": [
        "reader = surprise.Reader(rating_scale=(1, 5))\n",
        "data = surprise.Dataset.load_from_df(df_ratings, reader)\n",
        "trainset, testset = surprise.model_selection.train_test_split(data, test_size=.2)"
      ]
    },
    {
      "cell_type": "code",
      "source": [
        "model = surprise.dump.load('static/surprise_model')"
      ],
      "metadata": {
        "id": "9syEDB4Y1t29"
      },
      "execution_count": null,
      "outputs": []
    },
    {
      "cell_type": "code",
      "execution_count": null,
      "metadata": {
        "colab": {
          "base_uri": "https://localhost:8080/"
        },
        "id": "K-gP5CSHZt3c",
        "outputId": "7345fc54-df07-4e35-b84a-b705485b758b"
      },
      "outputs": [
        {
          "output_type": "stream",
          "name": "stdout",
          "text": [
            "RMSE: 0.8789\n"
          ]
        },
        {
          "output_type": "execute_result",
          "data": {
            "text/plain": [
              "0.8789315562145458"
            ]
          },
          "metadata": {},
          "execution_count": 38
        }
      ],
      "source": [
        "svd = surprise.SVD(n_factors = 300, n_epochs=100, lr_all = 0.005, reg_all = 0.02)\n",
        "svd.fit(trainset)\n",
        "predictions = svd.test(testset)\n",
        "surprise.accuracy.rmse(predictions)\n",
        "# model = surprise.dump.load('drive/MyDrive/surprise_model')\n",
        "# surprise.model_selection.cross_validate(svd, data, measures=['RMSE', 'MAE'], verbose = True, cv=3)\n",
        "# surprise.model_selection.cross_validate(svd, data, measures=['RMSE', 'MAE'])"
      ]
    },
    {
      "cell_type": "code",
      "execution_count": null,
      "metadata": {
        "id": "4jptHNj-xPDP"
      },
      "outputs": [],
      "source": [
        "predictions = svd.test(testset)\n"
      ]
    },
    {
      "cell_type": "code",
      "source": [
        "surprise.accuracy.rmse(predictions) "
      ],
      "metadata": {
        "colab": {
          "base_uri": "https://localhost:8080/"
        },
        "id": "1T8TrdEU8lem",
        "outputId": "13624c69-8614-4045-af1d-af85fe1d4423"
      },
      "execution_count": null,
      "outputs": [
        {
          "output_type": "stream",
          "name": "stdout",
          "text": [
            "RMSE: 0.8789\n"
          ]
        },
        {
          "output_type": "execute_result",
          "data": {
            "text/plain": [
              "0.8789315562145458"
            ]
          },
          "metadata": {},
          "execution_count": 40
        }
      ]
    },
    {
      "cell_type": "code",
      "source": [
        "surprise.accuracy.mse(predictions)"
      ],
      "metadata": {
        "colab": {
          "base_uri": "https://localhost:8080/"
        },
        "id": "DqkhCKFp8mJR",
        "outputId": "9c67f72f-4924-405c-c0a2-c39f585f9de7"
      },
      "execution_count": null,
      "outputs": [
        {
          "output_type": "stream",
          "name": "stdout",
          "text": [
            "MSE: 0.7725\n"
          ]
        },
        {
          "output_type": "execute_result",
          "data": {
            "text/plain": [
              "0.7725206805097232"
            ]
          },
          "metadata": {},
          "execution_count": 41
        }
      ]
    },
    {
      "cell_type": "code",
      "source": [
        "surprise.accuracy.mae(predictions)"
      ],
      "metadata": {
        "id": "YUpwbTsH2kPW",
        "outputId": "22db3655-b194-4bb4-fe6c-b26075a212a7",
        "colab": {
          "base_uri": "https://localhost:8080/"
        }
      },
      "execution_count": null,
      "outputs": [
        {
          "output_type": "stream",
          "name": "stdout",
          "text": [
            "MAE:  0.6860\n"
          ]
        },
        {
          "output_type": "execute_result",
          "data": {
            "text/plain": [
              "0.6859896984858853"
            ]
          },
          "metadata": {},
          "execution_count": 46
        }
      ]
    },
    {
      "cell_type": "code",
      "source": [
        "surprise.accuracy.mse(predictions)"
      ],
      "metadata": {
        "id": "X1zb-6U0swoZ"
      },
      "execution_count": null,
      "outputs": []
    },
    {
      "cell_type": "code",
      "execution_count": null,
      "metadata": {
        "id": "G-uxnJx2VV6t"
      },
      "outputs": [],
      "source": [
        "surprise.dump.dump('/content/drive/MyDrive/surprise_model_1.pickle', predictions , svd)"
      ]
    },
    {
      "cell_type": "code",
      "execution_count": null,
      "metadata": {
        "colab": {
          "base_uri": "https://localhost:8080/"
        },
        "id": "LD9lWf83kCDn",
        "outputId": "4f182922-fc47-42ed-aa93-8fd1b47679d0"
      },
      "outputs": [
        {
          "name": "stdout",
          "output_type": "stream",
          "text": [
            "14\n"
          ]
        }
      ],
      "source": [
        "df_user = df_ratings[(df_ratings['customer_id'] == res) & (df_ratings['rating'] == 5)]\n",
        "df_user = df_user.set_index('movie_id')\n",
        "df_user = df_user.join(df_title)['name']\n",
        "print(len(df_user))"
      ]
    },
    {
      "cell_type": "code",
      "execution_count": null,
      "metadata": {
        "id": "JsEOFFmXHoIR"
      },
      "outputs": [],
      "source": [
        "titles = df_title.copy()\n",
        "titles = titles.reset_index()\n",
        "titles = titles[~titles['movie_id'].isin(drop_movie_list)]\n",
        "\n",
        "# titles.head()\n",
        "model = surprise.dump.load('drive/MyDrive/surprise_model')\n",
        "titles['estimate_score'] = titles['movie_id'].apply(lambda x: model[1].predict(7, x).est)\n",
        "titles = titles.drop('movie_id', axis = 1)\n",
        "\n",
        "titles = titles.sort_values('estimate_score', ascending = False)\n",
        "titles.head(10).to_dict()"
      ]
    },
    {
      "cell_type": "code",
      "execution_count": null,
      "metadata": {
        "id": "iOd9yzz01MJ6"
      },
      "outputs": [],
      "source": [
        ""
      ]
    },
    {
      "cell_type": "code",
      "execution_count": null,
      "metadata": {
        "colab": {
          "base_uri": "https://localhost:8080/"
        },
        "id": "-bKeHw4KCZ0Y",
        "outputId": "dd2c8e5f-51a3-42aa-e173-02751750ce89"
      },
      "outputs": [
        {
          "name": "stdout",
          "output_type": "stream",
          "text": [
            "Int64Index([7, 67, 174, 151, 43, 27, 55, 32, 190, 137], dtype='int64')\n",
            "[{'id': 7, 'year': 2004.0, 'title': 'What the #$*! Do We Know!?'}, {'id': 67, 'year': 2004.0, 'title': 'Invader Zim'}, {'id': 174, 'year': 1992.0, 'title': 'Reservoir Dogs'}, {'id': 151, 'year': 1995.0, 'title': 'A Little Princess'}, {'id': 43, 'year': 1996.0, 'title': 'Spitfire Grill'}, {'id': 27, 'year': 2002.0, 'title': 'Lilo and Stitch'}, {'id': 55, 'year': 2004.0, 'title': 'Carandiru'}, {'id': 32, 'year': 2000.0, 'title': 'Aqua Teen Hunger Force: Vol. 1'}, {'id': 190, 'year': 2003.0, 'title': 'X2: X-Men United'}, {'id': 137, 'year': 1995.0, 'title': 'Star Trek: Voyager: Season 1'}]\n"
          ]
        }
      ],
      "source": [
        "res_arr = []\n",
        "print(res.year.keys())\n",
        "for key in res.year.keys():\n",
        "  movie = {}\n",
        "  movie['id'] = key\n",
        "  movie['year'] = res.year[key]\n",
        "  movie['title'] = res.name[key]\n",
        "  res_arr.append(movie)\n",
        "print(res_arr)"
      ]
    }
  ],
  "metadata": {
    "colab": {
      "collapsed_sections": [],
      "name": "Копия блокнота \"итоговый вариант рекомендательной системы.ipynb\"\"\"",
      "provenance": []
    },
    "kernelspec": {
      "display_name": "Python 3",
      "name": "python3"
    },
    "language_info": {
      "name": "python"
    }
  },
  "nbformat": 4,
  "nbformat_minor": 0
}